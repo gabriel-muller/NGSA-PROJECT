{
 "cells": [
  {
   "cell_type": "code",
   "execution_count": 1,
   "metadata": {},
   "outputs": [],
   "source": [
    "import numpy as np\n",
    "import random\n",
    "import igraph\n",
    "import networkx as nx\n",
    "import csv\n",
    "import json\n",
    "import pandas as pd\n",
    "import time\n",
    "import matplotlib as plt"
   ]
  },
  {
   "cell_type": "code",
   "execution_count": 2,
   "metadata": {},
   "outputs": [],
   "source": [
    "path = '..\\data'"
   ]
  },
  {
   "cell_type": "code",
   "execution_count": 3,
   "metadata": {},
   "outputs": [],
   "source": [
    "def create_graph(path, filename):\n",
    "    with open(path + filename, \"r\") as f:\n",
    "        reader = csv.reader(f)\n",
    "        edges  = list(reader)[1:] \n",
    "    g = nx.Graph()\n",
    "    g_dir = nx.DiGraph()\n",
    "    g.add_edges_from(edges)\n",
    "    g_dir.add_edges_from(edges)\n",
    "    return g, g_dir"
   ]
  },
  {
   "cell_type": "code",
   "execution_count": 4,
   "metadata": {},
   "outputs": [],
   "source": [
    "g_HR, g_dir_HR = create_graph(path,'\\HR_edges.csv')\n",
    "g_HU, g_dir_HU = create_graph(path,'\\HU_edges.csv')\n",
    "g_RO, g_dir_RO = create_graph(path,'\\RO_edges.csv')"
   ]
  },
  {
   "cell_type": "code",
   "execution_count": 5,
   "metadata": {},
   "outputs": [],
   "source": [
    "def compute_network_characteristics(graph):\n",
    "    prop = {}\n",
    "    prop['N'] = graph.number_of_nodes() # number of nodes\n",
    "    prop['M'] = graph.number_of_edges() # number of edges\n",
    "    #degrees = graph.degree().values()\n",
    "    degrees = [degree for node, degree in graph.degree()] # degree list\n",
    "    prop['min_degree'] = np.min(degrees) # minimum degree\n",
    "    prop['max_degree'] = np.max(degrees) # maximum degree\n",
    "    prop['mean_degree'] = np.mean(degrees) # mean of node degrees\n",
    "    prop['median_degree'] = np.median(degrees) # median of node degrees\n",
    "    prop['density'] = nx.density(graph) # density of the graph\n",
    "    print(\"Number of nodes: {}\".format(prop['N']))\n",
    "    print(\"Number of edges: {}\".format(prop['M']))\n",
    "    print(\"Min. degree: {}\".format(prop['min_degree']))\n",
    "    print(\"Max. degree: {}\".format(prop['max_degree']))\n",
    "    print(\"Mean degree: {}\".format(prop['mean_degree']))\n",
    "    print(\"Median degree: {}\".format(prop['median_degree']))\n",
    "    print(\"Density: {}\".format(prop['density']))\n",
    "    print(\"\")\n",
    "    return prop"
   ]
  },
  {
   "cell_type": "code",
   "execution_count": 6,
   "metadata": {},
   "outputs": [
    {
     "name": "stdout",
     "output_type": "stream",
     "text": [
      "Number of nodes: 54573\n",
      "Number of edges: 498202\n",
      "Min. degree: 1\n",
      "Max. degree: 420\n",
      "Mean degree: 18.258186282593957\n",
      "Median degree: 13.0\n",
      "Density: 0.0003345705908266869\n",
      "\n",
      "Number of nodes: 47538\n",
      "Number of edges: 222887\n",
      "Min. degree: 1\n",
      "Max. degree: 112\n",
      "Mean degree: 9.377214018259076\n",
      "Median degree: 8.0\n",
      "Density: 0.00019726137573383002\n",
      "\n",
      "Number of nodes: 41773\n",
      "Number of edges: 125826\n",
      "Min. degree: 1\n",
      "Max. degree: 112\n",
      "Mean degree: 6.024274052617719\n",
      "Median degree: 5.0\n",
      "Density: 0.00014421799417355452\n",
      "\n"
     ]
    }
   ],
   "source": [
    "prop_HR = compute_network_characteristics(g_HR)\n",
    "prop_HU = compute_network_characteristics(g_HU)\n",
    "prop_RO = compute_network_characteristics(g_RO)"
   ]
  }
 ],
 "metadata": {
  "kernelspec": {
   "display_name": "Python 3",
   "language": "python",
   "name": "python3"
  },
  "language_info": {
   "codemirror_mode": {
    "name": "ipython",
    "version": 3
   },
   "file_extension": ".py",
   "mimetype": "text/x-python",
   "name": "python",
   "nbconvert_exporter": "python",
   "pygments_lexer": "ipython3",
   "version": "3.7.4"
  }
 },
 "nbformat": 4,
 "nbformat_minor": 2
}
