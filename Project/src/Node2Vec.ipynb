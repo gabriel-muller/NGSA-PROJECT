{
 "cells": [
  {
   "cell_type": "code",
   "execution_count": 1,
   "metadata": {},
   "outputs": [
    {
     "name": "stderr",
     "output_type": "stream",
     "text": [
      "Slow version of gensim.models.doc2vec is being used\n"
     ]
    }
   ],
   "source": [
    "import igraph\n",
    "import networkx as nx\n",
    "from node2vec import Node2Vec\n",
    "\n",
    "import numpy as np\n",
    "import pandas as pd\n",
    "import matplotlib as plt\n",
    "import os"
   ]
  },
  {
   "cell_type": "markdown",
   "metadata": {},
   "source": [
    "# Import graph"
   ]
  },
  {
   "cell_type": "code",
   "execution_count": 2,
   "metadata": {
    "collapsed": true
   },
   "outputs": [],
   "source": [
    "os.chdir('../data/')\n",
    "path = os.getcwd()\n",
    "filename = 'RO_edges.csv'"
   ]
  },
  {
   "cell_type": "code",
   "execution_count": 3,
   "metadata": {
    "collapsed": true
   },
   "outputs": [],
   "source": [
    "G = nx.read_edgelist(path+'/'+filename, delimiter=',')\n",
    "G.remove_node('node_1')\n",
    "G.remove_node('node_2')"
   ]
  },
  {
   "cell_type": "code",
   "execution_count": 4,
   "metadata": {
    "collapsed": true
   },
   "outputs": [],
   "source": [
    "df_edges = pd.DataFrame(list(G.edges))\n",
    "df_edges.columns = [len(list(G.nodes)),len(list(G.edges))]"
   ]
  },
  {
   "cell_type": "code",
   "execution_count": 5,
   "metadata": {
    "collapsed": true
   },
   "outputs": [],
   "source": [
    "df_edges.to_csv('deezer_RO_edges.txt',sep=' ',index=False)"
   ]
  },
  {
   "cell_type": "code",
   "execution_count": 6,
   "metadata": {
    "collapsed": true
   },
   "outputs": [],
   "source": [
    "df_edges.to_csv('deezer_RO_edges_no_header.txt',sep=' ',index=False, header=False)"
   ]
  },
  {
   "cell_type": "markdown",
   "metadata": {},
   "source": [
    "# Node2Vec"
   ]
  },
  {
   "cell_type": "code",
   "execution_count": 7,
   "metadata": {},
   "outputs": [
    {
     "name": "stderr",
     "output_type": "stream",
     "text": [
      "Computing transition probabilities: 100%|██████████| 41773/41773 [00:23<00:00, 1813.24it/s]\n",
      "Generating walks (CPU: 1): 100%|██████████| 5/5 [03:23<00:00, 40.62s/it]\n"
     ]
    }
   ],
   "source": [
    "node2vec = Node2Vec(G, dimensions=16, walk_length=20, num_walks=5)"
   ]
  },
  {
   "cell_type": "code",
   "execution_count": 8,
   "metadata": {},
   "outputs": [
    {
     "name": "stderr",
     "output_type": "stream",
     "text": [
      "/Users/Maxime/anaconda3/lib/python3.6/site-packages/gensim-2.2.0-py3.6-macosx-10.7-x86_64.egg/gensim/models/word2vec.py:787: UserWarning: C extension not loaded for Word2Vec, training will be slow. Install a C compiler and reinstall gensim for fast training.\n",
      "  warnings.warn(\"C extension not loaded for Word2Vec, training will be slow. \"\n"
     ]
    }
   ],
   "source": [
    "model = node2vec.fit(window=5, min_count=1)"
   ]
  },
  {
   "cell_type": "code",
   "execution_count": 9,
   "metadata": {},
   "outputs": [
    {
     "data": {
      "text/plain": [
       "[('35935', 0.9068048000335693),\n",
       " ('4661', 0.8987045288085938),\n",
       " ('34086', 0.8607951402664185),\n",
       " ('39354', 0.8575646281242371),\n",
       " ('21648', 0.8534427285194397),\n",
       " ('17138', 0.8452820181846619),\n",
       " ('39044', 0.8423320055007935),\n",
       " ('4790', 0.8409689664840698),\n",
       " ('13181', 0.840398907661438),\n",
       " ('23345', 0.8400318622589111)]"
      ]
     },
     "execution_count": 9,
     "metadata": {},
     "output_type": "execute_result"
    }
   ],
   "source": [
    "model.wv.most_similar('2')"
   ]
  },
  {
   "cell_type": "code",
   "execution_count": 10,
   "metadata": {
    "collapsed": true
   },
   "outputs": [],
   "source": [
    "# Save embeddings\n",
    "os.chdir('../embeddings/')\n",
    "path = os.getcwd()\n",
    "name = 'RO_node2vec_embedding.csv'\n",
    "model.wv.save_word2vec_format(path+'/'+name)\n",
    "df = pd.read_csv(path+'/'+name, sep='\\s+').reset_index()\n",
    "df.columns = ['NodeID'] + [str(i) for i in range(1,17)]\n",
    "df.to_csv(name, index=False)"
   ]
  },
  {
   "cell_type": "code",
   "execution_count": 11,
   "metadata": {
    "collapsed": true
   },
   "outputs": [],
   "source": [
    "# Save model\n",
    "os.chdir('../models/')\n",
    "path = os.getcwd()\n",
    "model.save(path+'/model_node2vec_RO.sav')"
   ]
  }
 ],
 "metadata": {
  "kernelspec": {
   "display_name": "Python 3",
   "language": "python",
   "name": "python3"
  },
  "language_info": {
   "codemirror_mode": {
    "name": "ipython",
    "version": 3
   },
   "file_extension": ".py",
   "mimetype": "text/x-python",
   "name": "python",
   "nbconvert_exporter": "python",
   "pygments_lexer": "ipython3",
   "version": "3.6.0"
  },
  "toc": {
   "base_numbering": 1,
   "nav_menu": {},
   "number_sections": true,
   "sideBar": true,
   "skip_h1_title": false,
   "title_cell": "Table of Contents",
   "title_sidebar": "Contents",
   "toc_cell": false,
   "toc_position": {},
   "toc_section_display": true,
   "toc_window_display": false
  }
 },
 "nbformat": 4,
 "nbformat_minor": 2
}
