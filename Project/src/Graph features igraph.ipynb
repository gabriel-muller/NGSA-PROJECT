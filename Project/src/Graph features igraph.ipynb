{
 "cells": [
  {
   "cell_type": "code",
   "execution_count": 1,
   "metadata": {},
   "outputs": [],
   "source": [
    "import numpy as np\n",
    "import random\n",
    "import igraph\n",
    "import networkx as nx\n",
    "import csv\n",
    "import json\n",
    "import pandas as pd\n",
    "import time\n",
    "import matplotlib as plt"
   ]
  },
  {
   "cell_type": "markdown",
   "metadata": {},
   "source": [
    "### Data extraction"
   ]
  },
  {
   "cell_type": "code",
   "execution_count": 2,
   "metadata": {},
   "outputs": [],
   "source": [
    "path = '..\\data'"
   ]
  },
  {
   "cell_type": "code",
   "execution_count": 3,
   "metadata": {},
   "outputs": [],
   "source": [
    "def load_data(path, filename):\n",
    "    with open(path + filename) as json_file:\n",
    "        data = json.load(json_file)\n",
    "    print(len(data))\n",
    "    return data"
   ]
  },
  {
   "cell_type": "code",
   "execution_count": 4,
   "metadata": {},
   "outputs": [
    {
     "name": "stdout",
     "output_type": "stream",
     "text": [
      "54573\n",
      "47538\n",
      "41773\n"
     ]
    }
   ],
   "source": [
    "#load data\n",
    "data_HR = load_data(path,'\\HR_genres.json')\n",
    "data_HU = load_data(path,'\\HU_genres.json')\n",
    "data_RO = load_data(path,'\\RO_genres.json')"
   ]
  },
  {
   "cell_type": "code",
   "execution_count": 5,
   "metadata": {},
   "outputs": [],
   "source": [
    "with open(path + 'HR_edges.csv', \"r\") as f:\n",
    "    reader = csv.reader(f)\n",
    "    edges  = list(reader)[1:] "
   ]
  },
  {
   "cell_type": "code",
   "execution_count": 6,
   "metadata": {},
   "outputs": [],
   "source": [
    "def create_graph(path, filename):\n",
    "    with open(path + filename, \"r\") as f:\n",
    "        reader = csv.reader(f)\n",
    "        edges  = list(reader)[1:]\n",
    "    edges = [(int(edge[0]),int(edge[1])) for edge in edges]\n",
    "    Nb_nodes = max([max(nodes) for nodes in edges])+1\n",
    "    print(Nb_nodes)\n",
    "    g = igraph.Graph()\n",
    "    g_dir = igraph.Graph(directed=True)\n",
    "    g.add_vertices(Nb_nodes)\n",
    "    g_dir.add_vertices(Nb_nodes)\n",
    "    g.add_edges(edges)\n",
    "    g_dir.add_edges(edges)\n",
    "    return g, g_dir"
   ]
  },
  {
   "cell_type": "code",
   "execution_count": 7,
   "metadata": {
    "scrolled": true
   },
   "outputs": [
    {
     "name": "stdout",
     "output_type": "stream",
     "text": [
      "54573\n",
      "47538\n",
      "41773\n"
     ]
    }
   ],
   "source": [
    "g_HR, g_dir_HR = create_graph(path,'HR_edges.csv')\n",
    "g_HU, g_dir_HU = create_graph(path,'HU_edges.csv')\n",
    "g_RO, g_dir_RO = create_graph(path,'RO_edges.csv')"
   ]
  },
  {
   "cell_type": "markdown",
   "metadata": {},
   "source": [
    "### Communities detection\n",
    "\n",
    "Useful link : https://yoyoinwanderland.github.io/2017/08/08/Community-Detection-in-Python/"
   ]
  },
  {
   "cell_type": "code",
   "execution_count": 8,
   "metadata": {},
   "outputs": [],
   "source": [
    "def naive_compute_error(clusters, data):\n",
    "    #first genre of each user in regard to the main genre of its cluster\n",
    "    error = 0\n",
    "    for cluster in clusters:\n",
    "        genre_cluster = []\n",
    "        for val in cluster:\n",
    "            genre_cluster.append(data[str(val)][0])\n",
    "        main_genre = max(set(genre_cluster), key = genre_cluster.count)\n",
    "        error += sum(main_genre == genre for genre in genre_cluster)/len(data)\n",
    "    return error"
   ]
  },
  {
   "cell_type": "code",
   "execution_count": 9,
   "metadata": {},
   "outputs": [
    {
     "name": "stdout",
     "output_type": "stream",
     "text": [
      "Time : 254.3667449951172\n",
      "Nb of clusters : 147\n",
      "Error : 0.18620929763802552\n"
     ]
    }
   ],
   "source": [
    "#fast_greedy\n",
    "t = time.time()\n",
    "fast_greedy = g_HR.community_fastgreedy(weights = None)\n",
    "print(\"Time : {}\".format(time.time() - t))\n",
    "print(\"Nb of clusters : {}\".format(fast_greedy.optimal_count))\n",
    "#converting to communities\n",
    "communities_fs = fast_greedy.as_clustering()\n",
    "#To access the communities\n",
    "#print(communities_fs[0])\n",
    "#computation of error\n",
    "print(\"Error : {}\".format(naive_compute_error(communities_fs, data_HR)))"
   ]
  },
  {
   "cell_type": "code",
   "execution_count": 10,
   "metadata": {},
   "outputs": [
    {
     "name": "stdout",
     "output_type": "stream",
     "text": [
      "Time : 1090.7635185718536\n",
      "Nb of clusters : 1073\n",
      "Error : 0.20323236765432648\n"
     ]
    }
   ],
   "source": [
    "#walktrap\n",
    "t = time.time()\n",
    "walktrap = g_HR.community_walktrap(weights = None)\n",
    "print(\"Time : {}\".format(time.time() - t))\n",
    "print(\"Nb of clusters : {}\".format(walktrap.optimal_count))\n",
    "#converting to communities\n",
    "communities_wt = walktrap.as_clustering()\n",
    "#To access the communities\n",
    "#print(communities_wt[0])\n",
    "print(\"Error : {}\".format(naive_compute_error(communities_wt, data_HR)))"
   ]
  },
  {
   "cell_type": "code",
   "execution_count": 11,
   "metadata": {},
   "outputs": [
    {
     "name": "stdout",
     "output_type": "stream",
     "text": [
      "Time : 56.470285415649414\n",
      "Nb of clusters : 21\n",
      "Error : 0.18996573397101127\n"
     ]
    }
   ],
   "source": [
    "#leading eigenvector\n",
    "t = time.time()\n",
    "communities_eg = g_HR.community_leading_eigenvector(weights = None)\n",
    "print(\"Time : {}\".format(time.time() - t))\n",
    "print(\"Nb of clusters : {}\".format(len(communities_eg)))\n",
    "#To access the communities\n",
    "#print(communities_wt[0])\n",
    "print(\"Error : {}\".format(naive_compute_error(communities_eg, data_HR)))"
   ]
  },
  {
   "cell_type": "code",
   "execution_count": 12,
   "metadata": {},
   "outputs": [
    {
     "name": "stdout",
     "output_type": "stream",
     "text": [
      "Time : 2.6703810691833496\n",
      "Nb of clusters : 106\n",
      "Error : 0.19544463379326785\n"
     ]
    }
   ],
   "source": [
    "#label_propagation\n",
    "t = time.time()\n",
    "communities_lp = g_HR.community_label_propagation(weights = None)\n",
    "print(\"Time : {}\".format(time.time() - t))\n",
    "print(\"Nb of clusters : {}\".format(len(communities_lp)))\n",
    "#To access the communities\n",
    "#print(communities_wt[0])\n",
    "print(\"Error : {}\".format(naive_compute_error(communities_lp, data_HR)))"
   ]
  },
  {
   "cell_type": "code",
   "execution_count": 13,
   "metadata": {},
   "outputs": [
    {
     "name": "stdout",
     "output_type": "stream",
     "text": [
      "Time : 3.840144157409668\n",
      "Nb of clusters : 26\n",
      "Error : 0.18882964103127925\n"
     ]
    }
   ],
   "source": [
    "#multilevel\n",
    "t = time.time()\n",
    "communities_ml = g_HR.community_multilevel(weights = None)\n",
    "print(\"Time : {}\".format(time.time() - t))\n",
    "print(\"Nb of clusters : {}\".format(len(communities_ml)))\n",
    "#To access the communities\n",
    "#print(communities_wt[0])\n",
    "print(\"Error : {}\".format(naive_compute_error(communities_ml, data_HR)))"
   ]
  },
  {
   "cell_type": "code",
   "execution_count": 14,
   "metadata": {},
   "outputs": [
    {
     "name": "stdout",
     "output_type": "stream",
     "text": [
      "Time : 417.592973947525\n",
      "Nb of clusters : 2897\n",
      "Error : 0.24746669598519228\n"
     ]
    }
   ],
   "source": [
    "#infomap\n",
    "t = time.time()\n",
    "communities_im = g_dir_HR.community_infomap()\n",
    "print(\"Time : {}\".format(time.time() - t))\n",
    "print(\"Nb of clusters : {}\".format(len(communities_im)))\n",
    "#To access the communities\n",
    "#print(communities_wt[0])\n",
    "print(\"Error : {}\".format(naive_compute_error(communities_im, data_HR)))"
   ]
  },
  {
   "cell_type": "code",
   "execution_count": 15,
   "metadata": {},
   "outputs": [
    {
     "name": "stdout",
     "output_type": "stream",
     "text": [
      "Time : 889.0161607265472\n",
      "Nb of clusters : 1073\n",
      "Error : 0.18996573397101127\n"
     ]
    }
   ],
   "source": [
    "#edge_betweeness = Girvan Newman\n",
    "t = time.time()\n",
    "edge_betweeness = g_dir_HR.community_walktrap()\n",
    "print(\"Time : {}\".format(time.time() - t))\n",
    "print(\"Nb of clusters : {}\".format(edge_betweeness.optimal_count))\n",
    "#converting to communities\n",
    "communities_eb = edge_betweeness.as_clustering()\n",
    "#To access the communities\n",
    "#print(communities_wt[0])\n",
    "print(\"Error : {}\".format(naive_compute_error(communities_eb, data_HR)))"
   ]
  },
  {
   "cell_type": "code",
   "execution_count": null,
   "metadata": {},
   "outputs": [],
   "source": [
    "# #optimal_modularity : problem because of GLPK\n",
    "# t = time.time()\n",
    "# communities_om = g_HR.community_optimal_modularity()\n",
    "# print(len(communities_om))\n",
    "# print(time.time() - t)"
   ]
  }
 ],
 "metadata": {
  "kernelspec": {
   "display_name": "Python 3",
   "language": "python",
   "name": "python3"
  },
  "language_info": {
   "codemirror_mode": {
    "name": "ipython",
    "version": 3
   },
   "file_extension": ".py",
   "mimetype": "text/x-python",
   "name": "python",
   "nbconvert_exporter": "python",
   "pygments_lexer": "ipython3",
   "version": "3.7.4"
  }
 },
 "nbformat": 4,
 "nbformat_minor": 2
}
