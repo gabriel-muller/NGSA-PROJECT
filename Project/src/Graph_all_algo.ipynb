{
 "cells": [
  {
   "cell_type": "code",
   "execution_count": 1,
   "metadata": {},
   "outputs": [],
   "source": [
    "import numpy as np\n",
    "import random\n",
    "import igraph\n",
    "import networkx as nx\n",
    "import csv\n",
    "import json\n",
    "import pandas as pd\n",
    "import time\n",
    "import matplotlib as plt"
   ]
  },
  {
   "cell_type": "markdown",
   "metadata": {},
   "source": [
    "### Data extraction"
   ]
  },
  {
   "cell_type": "code",
   "execution_count": 2,
   "metadata": {},
   "outputs": [],
   "source": [
    "path = '..\\data'"
   ]
  },
  {
   "cell_type": "code",
   "execution_count": 3,
   "metadata": {},
   "outputs": [],
   "source": [
    "def load_data(path, filename):\n",
    "    with open(path + filename) as json_file:\n",
    "        data = json.load(json_file)\n",
    "    print(len(data))\n",
    "    return data"
   ]
  },
  {
   "cell_type": "code",
   "execution_count": 4,
   "metadata": {},
   "outputs": [
    {
     "name": "stdout",
     "output_type": "stream",
     "text": [
      "54573\n",
      "47538\n",
      "41773\n"
     ]
    }
   ],
   "source": [
    "#load data\n",
    "data_HR = load_data(path,'\\HR_genres.json')\n",
    "data_HU = load_data(path,'\\HU_genres.json')\n",
    "data_RO = load_data(path,'\\RO_genres.json')"
   ]
  },
  {
   "cell_type": "code",
   "execution_count": 5,
   "metadata": {},
   "outputs": [],
   "source": [
    "with open(path + '\\HR_edges.csv', \"r\") as f:\n",
    "    reader = csv.reader(f)\n",
    "    edges  = list(reader)[1:] "
   ]
  },
  {
   "cell_type": "code",
   "execution_count": 6,
   "metadata": {},
   "outputs": [],
   "source": [
    "def create_graph(path, filename):\n",
    "    with open(path + filename, \"r\") as f:\n",
    "        reader = csv.reader(f)\n",
    "        edges  = list(reader)[1:]\n",
    "    edges = [(int(edge[0]),int(edge[1])) for edge in edges]\n",
    "    Nb_nodes = max([max(nodes) for nodes in edges])+1\n",
    "    print(Nb_nodes)\n",
    "    g = igraph.Graph()\n",
    "    g_dir = igraph.Graph(directed=True)\n",
    "    g.add_vertices(Nb_nodes)\n",
    "    g_dir.add_vertices(Nb_nodes)\n",
    "    g.add_edges(edges)\n",
    "    g_dir.add_edges(edges)\n",
    "    return g, g_dir"
   ]
  },
  {
   "cell_type": "code",
   "execution_count": 7,
   "metadata": {
    "scrolled": true
   },
   "outputs": [
    {
     "name": "stdout",
     "output_type": "stream",
     "text": [
      "54573\n",
      "47538\n",
      "41773\n"
     ]
    }
   ],
   "source": [
    "g_HR, g_dir_HR = create_graph(path,'\\HR_edges.csv')\n",
    "g_HU, g_dir_HU = create_graph(path,'\\HU_edges.csv')\n",
    "g_RO, g_dir_RO = create_graph(path,'\\RO_edges.csv')"
   ]
  },
  {
   "cell_type": "markdown",
   "metadata": {},
   "source": [
    "### Communities detection\n",
    "\n",
    "Useful link : https://yoyoinwanderland.github.io/2017/08/08/Community-Detection-in-Python/"
   ]
  },
  {
   "cell_type": "code",
   "execution_count": 9,
   "metadata": {},
   "outputs": [],
   "source": [
    "def naive_compute_error(clusters, data):\n",
    "    #first genre of each user in regard to the main genre of its cluster\n",
    "    error = 0\n",
    "    for cluster in clusters:\n",
    "        genre_cluster = []\n",
    "        for val in cluster:\n",
    "            genre_cluster.append(data[str(val)][0])\n",
    "        main_genre = max(set(genre_cluster), key = genre_cluster.count)\n",
    "        error += sum(main_genre == genre for genre in genre_cluster)/len(data)\n",
    "    return error"
   ]
  },
  {
   "cell_type": "code",
   "execution_count": 33,
   "metadata": {},
   "outputs": [],
   "source": [
    "def print_all(names, algorithms, times, nb_clusters, errors, modularities):\n",
    "    print('')\n",
    "    print(names[-1] + ' - ' + algorithms[-1])\n",
    "    print(\"Time : {}\".format(times[-1]))\n",
    "    print(\"Nb of clusters : {}\".format(nb_clusters[-1]))\n",
    "    print(\"Error : {}\".format(errors[-1]))\n",
    "    print(\"Modularity score : {}\".format(modularities[-1]))"
   ]
  },
  {
   "cell_type": "markdown",
   "metadata": {},
   "source": [
    "## All algorithms"
   ]
  },
  {
   "cell_type": "code",
   "execution_count": 34,
   "metadata": {},
   "outputs": [
    {
     "name": "stdout",
     "output_type": "stream",
     "text": [
      "\n",
      "Croatia - Louvain\n",
      "Time : 2.876326084136963\n",
      "Nb of clusters : 26\n",
      "Error : 0.18882964103127925\n",
      "Modularity score : 0.7398027639791998\n",
      "\n",
      "Croatia - Label propagation\n",
      "Time : 2.0629217624664307\n",
      "Nb of clusters : 122\n",
      "Error : 0.1973136899199238\n",
      "Modularity score : 0.6784772465634586\n",
      "\n",
      "Hungary - Louvain\n",
      "Time : 2.0156548023223877\n",
      "Nb of clusters : 25\n",
      "Error : 0.21668980604989696\n",
      "Modularity score : 0.6791371560455277\n",
      "\n",
      "Hungary - Label propagation\n",
      "Time : 1.7884762287139893\n",
      "Nb of clusters : 32\n",
      "Error : 0.2171736295174388\n",
      "Modularity score : 0.1354255515231916\n",
      "\n",
      "Romania - Louvain\n",
      "Time : 1.812486171722412\n",
      "Nb of clusters : 45\n",
      "Error : 0.21638378857156537\n",
      "Modularity score : 0.7538882403213177\n",
      "\n",
      "Romania - Label propagation\n",
      "Time : 2.5115818977355957\n",
      "Nb of clusters : 552\n",
      "Error : 0.2250736121418121\n",
      "Modularity score : 0.6045274962194309\n"
     ]
    },
    {
     "data": {
      "text/html": [
       "<div>\n",
       "<style scoped>\n",
       "    .dataframe tbody tr th:only-of-type {\n",
       "        vertical-align: middle;\n",
       "    }\n",
       "\n",
       "    .dataframe tbody tr th {\n",
       "        vertical-align: top;\n",
       "    }\n",
       "\n",
       "    .dataframe thead th {\n",
       "        text-align: right;\n",
       "    }\n",
       "</style>\n",
       "<table border=\"1\" class=\"dataframe\">\n",
       "  <thead>\n",
       "    <tr style=\"text-align: right;\">\n",
       "      <th></th>\n",
       "      <th>algorithm</th>\n",
       "      <th>name</th>\n",
       "      <th>time</th>\n",
       "      <th>nb_clusters</th>\n",
       "      <th>error</th>\n",
       "      <th>modularity</th>\n",
       "    </tr>\n",
       "  </thead>\n",
       "  <tbody>\n",
       "    <tr>\n",
       "      <th>0</th>\n",
       "      <td>Louvain</td>\n",
       "      <td>Croatia</td>\n",
       "      <td>2.876326</td>\n",
       "      <td>26</td>\n",
       "      <td>0.188830</td>\n",
       "      <td>0.739803</td>\n",
       "    </tr>\n",
       "    <tr>\n",
       "      <th>1</th>\n",
       "      <td>Label propagation</td>\n",
       "      <td>Croatia</td>\n",
       "      <td>2.062922</td>\n",
       "      <td>122</td>\n",
       "      <td>0.197314</td>\n",
       "      <td>0.678477</td>\n",
       "    </tr>\n",
       "    <tr>\n",
       "      <th>2</th>\n",
       "      <td>Louvain</td>\n",
       "      <td>Hungary</td>\n",
       "      <td>2.015655</td>\n",
       "      <td>25</td>\n",
       "      <td>0.216690</td>\n",
       "      <td>0.679137</td>\n",
       "    </tr>\n",
       "    <tr>\n",
       "      <th>3</th>\n",
       "      <td>Label propagation</td>\n",
       "      <td>Hungary</td>\n",
       "      <td>1.788476</td>\n",
       "      <td>32</td>\n",
       "      <td>0.217174</td>\n",
       "      <td>0.135426</td>\n",
       "    </tr>\n",
       "    <tr>\n",
       "      <th>4</th>\n",
       "      <td>Louvain</td>\n",
       "      <td>Romania</td>\n",
       "      <td>1.812486</td>\n",
       "      <td>45</td>\n",
       "      <td>0.216384</td>\n",
       "      <td>0.753888</td>\n",
       "    </tr>\n",
       "    <tr>\n",
       "      <th>5</th>\n",
       "      <td>Label propagation</td>\n",
       "      <td>Romania</td>\n",
       "      <td>2.511582</td>\n",
       "      <td>552</td>\n",
       "      <td>0.225074</td>\n",
       "      <td>0.604527</td>\n",
       "    </tr>\n",
       "  </tbody>\n",
       "</table>\n",
       "</div>"
      ],
      "text/plain": [
       "           algorithm     name      time  nb_clusters     error  modularity\n",
       "0            Louvain  Croatia  2.876326           26  0.188830    0.739803\n",
       "1  Label propagation  Croatia  2.062922          122  0.197314    0.678477\n",
       "2            Louvain  Hungary  2.015655           25  0.216690    0.679137\n",
       "3  Label propagation  Hungary  1.788476           32  0.217174    0.135426\n",
       "4            Louvain  Romania  1.812486           45  0.216384    0.753888\n",
       "5  Label propagation  Romania  2.511582          552  0.225074    0.604527"
      ]
     },
     "metadata": {},
     "output_type": "display_data"
    }
   ],
   "source": [
    "#multilevel = louvain algorithm\n",
    "algorithms, names, times, nb_clusters, errors, modularities = [], [], [], [], [], []\n",
    "for name, graph, data in zip(['Croatia', 'Hungary', 'Romania'], [g_HR, g_HU, g_RO], [data_HR, data_HU, data_RO]):\n",
    "    list_functions = [graph.community_multilevel, graph.community_label_propagation,\n",
    "                      graph.community_leading_eigenvector]\n",
    "    for algorithm, function in zip(['Louvain', 'Label propagation', 'Spectral Clustering'], list_functions):\n",
    "        t = time.time()\n",
    "        communities = function(weights = None)\n",
    "\n",
    "        # list & print\n",
    "        algorithms.append(algorithm)\n",
    "        names.append(name)\n",
    "        times.append(time.time() - t)\n",
    "        nb_clusters.append(len(communities))\n",
    "        errors.append(naive_compute_error(communities, data))\n",
    "        modularities.append(graph.modularity(communities))\n",
    "        print_all(names, algorithms, times, nb_clusters, errors, modularities)\n",
    "    \n",
    "    list_functions = [graph.community_fastgreedy, graph.community_walktrap]\n",
    "    for algorithm, function in zip(['FastGreedy', 'Walktrap'], list_functions):\n",
    "        t = time.time()\n",
    "        communities = function(weights = None)\n",
    "        \n",
    "        # list & print\n",
    "        algorithms.append(algorithm)\n",
    "        names.append(name)\n",
    "        times.append(time.time() - t)\n",
    "        nb_clusters.append(communities.optimal_count)\n",
    "        communities_clusters = communities.as_clustering()\n",
    "        errors.append(naive_compute_error(communities_clusters, data))\n",
    "        modularities.append(graph.modularity(communities_clusters))\n",
    "        print_all(names, algorithms, times, nb_clusters, errors, modularities)\n",
    "    \n",
    "df = pd.DataFrame({'algorithm':algorithms,\n",
    "                   'name':names,\n",
    "                   'time': times,\n",
    "                   'nb_clusters': nb_clusters,\n",
    "                   'error': errors,\n",
    "                   'modularity': modularities})\n",
    "display(df)\n",
    "\n",
    "df.to_csv('results.csv', index = False)"
   ]
  },
  {
   "cell_type": "code",
   "execution_count": null,
   "metadata": {},
   "outputs": [],
   "source": [
    "#infomap\n",
    "t = time.time()\n",
    "communities_im = g_HR.community_infomap()\n",
    "print(\"Time : {}\".format(time.time() - t))\n",
    "print(\"Nb of clusters : {}\".format(len(communities_im)))\n",
    "#To access the communities\n",
    "#print(communities_wt[0])\n",
    "print(\"Error : {}\".format(naive_compute_error(communities_im, data_HR)))\n",
    "#print(\"Modularity score : {}\".format(g_dir_HR.modularity(communities_im)))"
   ]
  },
  {
   "cell_type": "code",
   "execution_count": 15,
   "metadata": {},
   "outputs": [
    {
     "name": "stdout",
     "output_type": "stream",
     "text": [
      "Time : 1119.9673688411713\n",
      "Nb of clusters : 1073\n",
      "Error : 0.20323236765432648\n"
     ]
    }
   ],
   "source": [
    "#edge_betweeness = Girvan Newman\n",
    "t = time.time()\n",
    "edge_betweeness = g_dir_HR.community_walktrap()\n",
    "print(\"Time : {}\".format(time.time() - t))\n",
    "print(\"Nb of clusters : {}\".format(edge_betweeness.optimal_count))\n",
    "#converting to communities\n",
    "communities_eb = edge_betweeness.as_clustering()\n",
    "#To access the communities\n",
    "#print(communities_wt[0])\n",
    "print(\"Error : {}\".format(naive_compute_error(communities_eb, data_HR)))"
   ]
  }
 ],
 "metadata": {
  "kernelspec": {
   "display_name": "Python 3",
   "language": "python",
   "name": "python3"
  },
  "language_info": {
   "codemirror_mode": {
    "name": "ipython",
    "version": 3
   },
   "file_extension": ".py",
   "mimetype": "text/x-python",
   "name": "python",
   "nbconvert_exporter": "python",
   "pygments_lexer": "ipython3",
   "version": "3.7.3"
  }
 },
 "nbformat": 4,
 "nbformat_minor": 2
}
