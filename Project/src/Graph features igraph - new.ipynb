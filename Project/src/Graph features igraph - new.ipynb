{
 "cells": [
  {
   "cell_type": "code",
   "execution_count": 1,
   "metadata": {},
   "outputs": [],
   "source": [
    "import numpy as np\n",
    "import random\n",
    "import igraph\n",
    "import csv\n",
    "import json\n",
    "import pandas as pd\n",
    "import time\n",
    "import matplotlib as plt"
   ]
  },
  {
   "cell_type": "markdown",
   "metadata": {},
   "source": [
    "### Data extraction"
   ]
  },
  {
   "cell_type": "code",
   "execution_count": 2,
   "metadata": {},
   "outputs": [],
   "source": [
    "def create_graph(path, filename, weighted = False):\n",
    "    with open(path + filename, \"r\") as f:\n",
    "        reader = csv.reader(f)\n",
    "        edges  = list(reader)[1:]\n",
    "    edges = [(int(edge[0]),int(edge[1])) for edge in edges]\n",
    "    Nb_nodes = max([max(nodes) for nodes in edges])+1\n",
    "    g = igraph.Graph()\n",
    "    g.add_vertices(Nb_nodes)\n",
    "    g.add_edges(edges)\n",
    "    if weighted :\n",
    "        g.es[\"weight\"] = g.similarity_jaccard(pairs = edges)\n",
    "    else :\n",
    "        g.es[\"weight\"] = 1\n",
    "    return g"
   ]
  },
  {
   "cell_type": "markdown",
   "metadata": {},
   "source": [
    "### Communities detection\n",
    "\n",
    "Useful link : https://yoyoinwanderland.github.io/2017/08/08/Community-Detection-in-Python/"
   ]
  },
  {
   "cell_type": "code",
   "execution_count": 3,
   "metadata": {},
   "outputs": [],
   "source": [
    "path = '..\\data'"
   ]
  },
  {
   "cell_type": "code",
   "execution_count": 4,
   "metadata": {},
   "outputs": [],
   "source": [
    "def compare_all(path, filename):\n",
    "    \n",
    "    weighted = [True, False]\n",
    "    \n",
    "    for weight in weighted:\n",
    "        if weight :\n",
    "            print(\"Weighted\")\n",
    "        else :\n",
    "            print(\"Non weighted\")\n",
    "        graph = create_graph(path,filename, weight)\n",
    "        Time = {}\n",
    "        methods = {}\n",
    "        weights = graph.es[\"weight\"]\n",
    "        t = time.time()\n",
    "        methods[\"Fast greedy\"] = graph.community_fastgreedy(weights = weights).as_clustering()\n",
    "        Time[\"Fast greedy\"] = time.time() - t\n",
    "        t = time.time()\n",
    "        methods[\"Walktrap\"] = graph.community_walktrap(weights = weights).as_clustering()\n",
    "        Time[\"Walktrap\"] = time.time() - t\n",
    "        t = time.time()\n",
    "        methods[\"Spectral clustering\"] = graph.community_leading_eigenvector(weights = weights)\n",
    "        Time[\"Spectral clustering\"] = time.time() - t\n",
    "        t = time.time()\n",
    "        methods[\"Label propagation\"] = graph.community_label_propagation(weights = weights)\n",
    "        Time[\"Label propagation\"] = time.time() - t\n",
    "        t = time.time()\n",
    "        methods[\"Louvain\"] = graph.community_multilevel(weights = weights)\n",
    "        Time[\"Louvain\"] = time.time() - t\n",
    "        for method in methods.keys():\n",
    "            T = Time[method]\n",
    "            Nb_comm = len(methods[method])\n",
    "            Modularity = methods[method].modularity\n",
    "            print(\"{}: time = {:.0f}, Number of communities = {}, Modularity score = {:.3f}\".format(method, T, Nb_comm, Modularity))\n",
    "            print(\"\")"
   ]
  },
  {
   "cell_type": "code",
   "execution_count": 5,
   "metadata": {},
   "outputs": [
    {
     "name": "stdout",
     "output_type": "stream",
     "text": [
      "Weighted\n",
      "Fast greedy: time = 5, Number of communities = 113, Modularity score = 0.831\n",
      "\n",
      "Walktrap: time = 79, Number of communities = 2150, Modularity score = 0.740\n",
      "\n",
      "Spectral clustering: time = 2, Number of communities = 1, Modularity score = 0.000\n",
      "\n",
      "Label propagation: time = 2, Number of communities = 8803, Modularity score = 0.604\n",
      "\n",
      "Louvain: time = 1, Number of communities = 77, Modularity score = 0.831\n",
      "\n",
      "Non weighted\n",
      "Fast greedy: time = 40, Number of communities = 162, Modularity score = 0.698\n",
      "\n",
      "Walktrap: time = 80, Number of communities = 2554, Modularity score = 0.641\n",
      "\n",
      "Spectral clustering: time = 34, Number of communities = 18, Modularity score = 0.398\n",
      "\n",
      "Label propagation: time = 4, Number of communities = 667, Modularity score = 0.684\n",
      "\n",
      "Louvain: time = 2, Number of communities = 45, Modularity score = 0.754\n",
      "\n"
     ]
    }
   ],
   "source": [
    "compare_all(path,'\\RO_edges.csv')"
   ]
  },
  {
   "cell_type": "code",
   "execution_count": 6,
   "metadata": {},
   "outputs": [
    {
     "name": "stdout",
     "output_type": "stream",
     "text": [
      "Weighted\n",
      "Fast greedy: time = 45, Number of communities = 64, Modularity score = 0.831\n",
      "\n",
      "Walktrap: time = 728, Number of communities = 1263, Modularity score = 0.797\n",
      "\n",
      "Spectral clustering: time = 9, Number of communities = 1, Modularity score = -0.000\n",
      "\n",
      "Label propagation: time = 6, Number of communities = 3060, Modularity score = 0.716\n",
      "\n",
      "Louvain: time = 6, Number of communities = 57, Modularity score = 0.839\n",
      "\n",
      "Non weighted\n",
      "Fast greedy: time = 290, Number of communities = 147, Modularity score = 0.579\n",
      "\n",
      "Walktrap: time = 720, Number of communities = 1073, Modularity score = 0.694\n",
      "\n",
      "Spectral clustering: time = 98, Number of communities = 21, Modularity score = 0.462\n",
      "\n",
      "Label propagation: time = 10, Number of communities = 118, Modularity score = 0.707\n",
      "\n",
      "Louvain: time = 4, Number of communities = 26, Modularity score = 0.740\n",
      "\n"
     ]
    }
   ],
   "source": [
    "compare_all(path,'\\HR_edges.csv')"
   ]
  },
  {
   "cell_type": "code",
   "execution_count": 7,
   "metadata": {},
   "outputs": [
    {
     "name": "stdout",
     "output_type": "stream",
     "text": [
      "Weighted\n",
      "Fast greedy: time = 19, Number of communities = 46, Modularity score = 0.784\n",
      "\n",
      "Walktrap: time = 205, Number of communities = 1241, Modularity score = 0.702\n",
      "\n",
      "Spectral clustering: time = 16, Number of communities = 5, Modularity score = 0.053\n",
      "\n",
      "Label propagation: time = 1, Number of communities = 7394, Modularity score = 0.570\n",
      "\n",
      "Louvain: time = 2, Number of communities = 38, Modularity score = 0.783\n",
      "\n",
      "Non weighted\n",
      "Fast greedy: time = 157, Number of communities = 81, Modularity score = 0.583\n",
      "\n",
      "Walktrap: time = 224, Number of communities = 910, Modularity score = 0.582\n",
      "\n",
      "Spectral clustering: time = 13, Number of communities = 4, Modularity score = 0.161\n",
      "\n",
      "Label propagation: time = 9, Number of communities = 26, Modularity score = 0.061\n",
      "\n",
      "Louvain: time = 4, Number of communities = 25, Modularity score = 0.679\n",
      "\n"
     ]
    }
   ],
   "source": [
    "compare_all(path,'\\HU_edges.csv')"
   ]
  },
  {
   "cell_type": "code",
   "execution_count": 6,
   "metadata": {},
   "outputs": [
    {
     "name": "stdout",
     "output_type": "stream",
     "text": [
      "Weighted\n",
      "Fast greedy: time = 0, Number of communities = 66, Modularity score = 0.919\n",
      "\n",
      "Walktrap: time = 2, Number of communities = 541, Modularity score = 0.884\n",
      "\n",
      "Spectral clustering: time = 15, Number of communities = 104, Modularity score = 0.828\n",
      "\n",
      "Label propagation: time = 0, Number of communities = 485, Modularity score = 0.871\n",
      "\n",
      "Louvain: time = 0, Number of communities = 59, Modularity score = 0.921\n",
      "\n",
      "Non weighted\n",
      "Fast greedy: time = 0, Number of communities = 41, Modularity score = 0.815\n",
      "\n",
      "Walktrap: time = 2, Number of communities = 235, Modularity score = 0.835\n",
      "\n",
      "Spectral clustering: time = 3, Number of communities = 16, Modularity score = 0.749\n",
      "\n",
      "Label propagation: time = 0, Number of communities = 142, Modularity score = 0.829\n",
      "\n",
      "Louvain: time = 0, Number of communities = 29, Modularity score = 0.868\n",
      "\n"
     ]
    }
   ],
   "source": [
    "compare_all(path,'\\politician_edges.csv')"
   ]
  },
  {
   "cell_type": "code",
   "execution_count": 8,
   "metadata": {},
   "outputs": [
    {
     "name": "stdout",
     "output_type": "stream",
     "text": [
      "Weighted\n",
      "Fast greedy: time = 1, Number of communities = 154, Modularity score = 0.836\n",
      "\n",
      "Walktrap: time = 11, Number of communities = 1636, Modularity score = 0.767\n",
      "\n",
      "Spectral clustering: time = 19, Number of communities = 45, Modularity score = 0.708\n",
      "\n",
      "Label propagation: time = 0, Number of communities = 1640, Modularity score = 0.758\n",
      "\n",
      "Louvain: time = 0, Number of communities = 107, Modularity score = 0.837\n",
      "\n",
      "Non weighted\n",
      "Fast greedy: time = 6, Number of communities = 172, Modularity score = 0.635\n",
      "\n",
      "Walktrap: time = 10, Number of communities = 940, Modularity score = 0.623\n",
      "\n",
      "Spectral clustering: time = 4, Number of communities = 7, Modularity score = 0.528\n",
      "\n",
      "Label propagation: time = 0, Number of communities = 192, Modularity score = 0.600\n",
      "\n",
      "Louvain: time = 0, Number of communities = 42, Modularity score = 0.684\n",
      "\n"
     ]
    }
   ],
   "source": [
    "compare_all(path,'\\public_figure_edges.csv')"
   ]
  },
  {
   "cell_type": "code",
   "execution_count": 10,
   "metadata": {},
   "outputs": [
    {
     "name": "stdout",
     "output_type": "stream",
     "text": [
      "Weighted\n",
      "Fast greedy: time = 1, Number of communities = 181, Modularity score = 0.911\n",
      "\n",
      "Walktrap: time = 10, Number of communities = 1885, Modularity score = 0.843\n",
      "\n",
      "Spectral clustering: time = 2, Number of communities = 9, Modularity score = 0.100\n",
      "\n",
      "Label propagation: time = 0, Number of communities = 2460, Modularity score = 0.828\n",
      "\n",
      "Louvain: time = 0, Number of communities = 152, Modularity score = 0.912\n",
      "\n",
      "Non weighted\n",
      "Fast greedy: time = 6, Number of communities = 179, Modularity score = 0.670\n",
      "\n",
      "Walktrap: time = 11, Number of communities = 1570, Modularity score = 0.637\n",
      "\n",
      "Spectral clustering: time = 1, Number of communities = 4, Modularity score = 0.250\n",
      "\n",
      "Label propagation: time = 0, Number of communities = 491, Modularity score = 0.519\n",
      "\n",
      "Louvain: time = 0, Number of communities = 67, Modularity score = 0.730\n",
      "\n"
     ]
    }
   ],
   "source": [
    "compare_all(path,'\\company_edges.csv')"
   ]
  },
  {
   "cell_type": "code",
   "execution_count": null,
   "metadata": {},
   "outputs": [],
   "source": []
  }
 ],
 "metadata": {
  "kernelspec": {
   "display_name": "Python 3",
   "language": "python",
   "name": "python3"
  },
  "language_info": {
   "codemirror_mode": {
    "name": "ipython",
    "version": 3
   },
   "file_extension": ".py",
   "mimetype": "text/x-python",
   "name": "python",
   "nbconvert_exporter": "python",
   "pygments_lexer": "ipython3",
   "version": "3.7.3"
  }
 },
 "nbformat": 4,
 "nbformat_minor": 2
}
