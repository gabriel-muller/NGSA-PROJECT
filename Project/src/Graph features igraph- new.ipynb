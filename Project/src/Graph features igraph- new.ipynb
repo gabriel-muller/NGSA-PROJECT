{
 "cells": [
  {
   "cell_type": "code",
   "execution_count": 15,
   "metadata": {},
   "outputs": [],
   "source": [
    "import numpy as np\n",
    "import random\n",
    "import igraph\n",
    "import networkx as nx\n",
    "import csv\n",
    "import json\n",
    "import pandas as pd\n",
    "import time\n",
    "import matplotlib as plt"
   ]
  },
  {
   "cell_type": "markdown",
   "metadata": {},
   "source": [
    "### Data extraction"
   ]
  },
  {
   "cell_type": "code",
   "execution_count": 16,
   "metadata": {},
   "outputs": [],
   "source": [
    "path = '..\\data'"
   ]
  },
  {
   "cell_type": "code",
   "execution_count": 17,
   "metadata": {},
   "outputs": [],
   "source": [
    "def load_data(path, filename):\n",
    "    with open(path + filename) as json_file:\n",
    "        data = json.load(json_file)\n",
    "    print(len(data))\n",
    "    return data"
   ]
  },
  {
   "cell_type": "code",
   "execution_count": 18,
   "metadata": {},
   "outputs": [
    {
     "name": "stdout",
     "output_type": "stream",
     "text": [
      "54573\n",
      "47538\n",
      "41773\n"
     ]
    }
   ],
   "source": [
    "#load data\n",
    "data_HR = load_data(path,'\\HR_genres.json')\n",
    "data_HU = load_data(path,'\\HU_genres.json')\n",
    "data_RO = load_data(path,'\\RO_genres.json')"
   ]
  },
  {
   "cell_type": "code",
   "execution_count": 19,
   "metadata": {},
   "outputs": [],
   "source": [
    "with open(path + '\\HR_edges.csv', \"r\") as f:\n",
    "    reader = csv.reader(f)\n",
    "    edges  = list(reader)[1:] "
   ]
  },
  {
   "cell_type": "code",
   "execution_count": 20,
   "metadata": {},
   "outputs": [],
   "source": [
    "def create_graph(path, filename, weighted = False, directed = False):\n",
    "    with open(path + filename, \"r\") as f:\n",
    "        reader = csv.reader(f)\n",
    "        edges  = list(reader)[1:]\n",
    "    edges = [(int(edge[0]),int(edge[1])) for edge in edges]\n",
    "    Nb_nodes = max([max(nodes) for nodes in edges])+1\n",
    "    if directed : \n",
    "        g = igraph.Graph(directed = True)\n",
    "    else :\n",
    "        g = igraph.Graph()\n",
    "    g.add_vertices(Nb_nodes)\n",
    "    g.add_edges(edges)\n",
    "    if weighted :\n",
    "        g.es[\"weight\"] = g.similarity_jaccard(pairs = edges)\n",
    "    else :\n",
    "        g.es[\"weight\"] = 1\n",
    "    return g"
   ]
  },
  {
   "cell_type": "markdown",
   "metadata": {},
   "source": [
    "### Communities detection\n",
    "\n",
    "Useful link : https://yoyoinwanderland.github.io/2017/08/08/Community-Detection-in-Python/"
   ]
  },
  {
   "cell_type": "code",
   "execution_count": 14,
   "metadata": {},
   "outputs": [
    {
     "name": "stdout",
     "output_type": "stream",
     "text": [
      "Weighted\n",
      "Directed\n",
      "im ok\n",
      "Infomap: time = 552, Number of communities = 3527, Modularity score = 0.433\n",
      "Non directed\n",
      "fs ok\n",
      "wt ok\n",
      "Sc ok\n",
      "Lp ok\n",
      "lv ok\n",
      "im ok\n",
      "Fast greedy: time = 45, Number of communities = 64, Modularity score = 0.711\n",
      "Walktrap: time = 773, Number of communities = 1263, Modularity score = 0.670\n",
      "Spectral clustering: time = 30, Number of communities = 1, Modularity score = 0.000\n",
      "Label propagation: time = 7, Number of communities = 3347, Modularity score = 0.540\n",
      "Louvain: time = 8, Number of communities = 57, Modularity score = 0.726\n",
      "Infomap: time = 428, Number of communities = 3058, Modularity score = 0.504\n",
      "Non weighted\n",
      "Directed\n",
      "im ok\n",
      "Infomap: time = 796, Number of communities = 2892, Modularity score = 0.485\n",
      "Non directed\n",
      "fs ok\n",
      "wt ok\n",
      "Sc ok\n",
      "Lp ok\n",
      "lv ok\n",
      "im ok\n",
      "Fast greedy: time = 326, Number of communities = 147, Modularity score = 0.579\n",
      "Walktrap: time = 736, Number of communities = 1073, Modularity score = 0.694\n",
      "Spectral clustering: time = 105, Number of communities = 21, Modularity score = 0.462\n",
      "Label propagation: time = 8, Number of communities = 106, Modularity score = 0.678\n",
      "Louvain: time = 4, Number of communities = 26, Modularity score = 0.740\n",
      "Infomap: time = 801, Number of communities = 1642, Modularity score = 0.614\n"
     ]
    }
   ],
   "source": [
    "def compare_all(path, filename):\n",
    "\n",
    "weighted = [True, False]\n",
    "directed = [True, False]\n",
    "    \n",
    "for weight in weighted:\n",
    "    if weight :\n",
    "        print(\"Weighted\")\n",
    "    else :\n",
    "        print(\"Non weighted\")\n",
    "    for direct in directed :\n",
    "        graph = create_graph(path,filename, weight, direct)\n",
    "        Time = {}\n",
    "        methods = {}\n",
    "        weights = graph.es[\"weight\"]\n",
    "        if direct :\n",
    "            print(\"Directed\")\n",
    "            g = create_graph(path,filename, weight, directed = False)\n",
    "        else :\n",
    "            print(\"Non directed\")\n",
    "            t = time.time()\n",
    "            methods[\"Fast greedy\"] = graph.community_fastgreedy(weights = weights).as_clustering()\n",
    "            Time[\"Fast greedy\"] = time.time() - t\n",
    "            t = time.time()\n",
    "            methods[\"Walktrap\"] = graph.community_walktrap(weights = weights).as_clustering()\n",
    "            Time[\"Walktrap\"] = time.time() - t\n",
    "            t = time.time()\n",
    "            methods[\"Spectral clustering\"] = graph.community_leading_eigenvector(weights = weights)\n",
    "            Time[\"Spectral clustering\"] = time.time() - t\n",
    "            t = time.time()\n",
    "            methods[\"Label propagation\"] = graph.community_label_propagation(weights = weights)\n",
    "            Time[\"Label propagation\"] = time.time() - t\n",
    "            t = time.time()\n",
    "            methods[\"Louvain\"] = graph.community_multilevel(weights = weights)\n",
    "            Time[\"Louvain\"] = time.time() - t\n",
    "            t = time.time()\n",
    "        methods[\"Infomap\"] = graph.community_infomap(edge_weights = weights)\n",
    "        Time[\"Infomap\"] = time.time() - t\n",
    "        #t = time.time()\n",
    "        #methods[\"Girvan-Newman\"] = graph.community_edge_betweenness(weights = graph.es[\"weight\"])\n",
    "        #Time[\"Girvan-Newman\"] = time.time() - t\n",
    "        for method in methods.keys():\n",
    "            T = Time[method]\n",
    "            Nb_comm = len(methods[method])\n",
    "            Membership = methods[method].membership\n",
    "            if direct:\n",
    "                Modularity = g.modularity(Membership)\n",
    "            else: \n",
    "                Modularity = graph.modularity(Membership)\n",
    "            print(\"{}: time = {:.0f}, Number of communities = {}, Modularity score = {:.3f}\".format(method, T, Nb_comm, Modularity))\n",
    "            print(\"\")"
   ]
  },
  {
   "cell_type": "code",
   "execution_count": null,
   "metadata": {},
   "outputs": [],
   "source": [
    "compare_all(path,'\\HR_edges.csv')"
   ]
  },
  {
   "cell_type": "code",
   "execution_count": null,
   "metadata": {},
   "outputs": [],
   "source": []
  }
 ],
 "metadata": {
  "kernelspec": {
   "display_name": "Python 3",
   "language": "python",
   "name": "python3"
  },
  "language_info": {
   "codemirror_mode": {
    "name": "ipython",
    "version": 3
   },
   "file_extension": ".py",
   "mimetype": "text/x-python",
   "name": "python",
   "nbconvert_exporter": "python",
   "pygments_lexer": "ipython3",
   "version": "3.7.4"
  }
 },
 "nbformat": 4,
 "nbformat_minor": 2
}
